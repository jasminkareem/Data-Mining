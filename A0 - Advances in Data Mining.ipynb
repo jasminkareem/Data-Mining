{
 "cells": [
  {
   "cell_type": "markdown",
   "id": "42e5846a",
   "metadata": {},
   "source": [
    "# A0 - Advances in Data Mining\n",
    "\n",
    "#### Jasmin Kareem\n"
   ]
  },
  {
   "cell_type": "code",
   "execution_count": 389,
   "id": "8f7acecd",
   "metadata": {},
   "outputs": [
    {
     "data": {
      "text/plain": [
       "9"
      ]
     },
     "execution_count": 389,
     "metadata": {},
     "output_type": "execute_result"
    }
   ],
   "source": [
    "import pandas as pd\n",
    "import numpy as np\n",
    "import random\n",
    "import matplotlib.pyplot as plt\n",
    "\n",
    "n=10\n",
    "N=100\n",
    "random.seed(10)\n",
    "def distinct_vals(n,N):\n",
    "    r = np.random.randint(0,N,n)\n",
    "    r_set = set(r)\n",
    "    return len(r_set)\n",
    "\n",
    "distinct_vals(n,N)"
   ]
  },
  {
   "cell_type": "markdown",
   "id": "0f2adb65",
   "metadata": {},
   "source": [
    "Our formula for the number of distinct values given n and N is the following:\n",
    "\n",
    "When n=N: the number of distinct values d $\\approx$ 2/3 * n\n",
    "\n",
    "When n>N: the number of distinct values then d $\\approx$ N   \n",
    "\n",
    "When n<N: the number of distinct values then d $\\approx$ n\n",
    "\n",
    "**** Given that the difference between n and N is large enough***"
   ]
  },
  {
   "cell_type": "markdown",
   "id": "22b1e412",
   "metadata": {},
   "source": [
    "### Let's make some histograms to test this hypothesis!"
   ]
  },
  {
   "cell_type": "code",
   "execution_count": 388,
   "id": "f57c1df6",
   "metadata": {},
   "outputs": [
    {
     "data": {
      "text/plain": [
       "(array([0.00285714, 0.        , 0.00571429, 0.        , 0.        ,\n",
       "        0.        , 0.        , 0.        , 0.00285714, 0.        ,\n",
       "        0.        , 0.01428571, 0.        , 0.        , 0.02857143,\n",
       "        0.        , 0.        , 0.04      , 0.        , 0.        ,\n",
       "        0.08857143, 0.        , 0.14857143, 0.        , 0.        ,\n",
       "        0.19142857, 0.        , 0.        , 0.22      , 0.        ,\n",
       "        0.        , 0.36857143, 0.        , 0.        , 0.39428571,\n",
       "        0.        , 0.        , 0.32285714, 0.        , 0.        ,\n",
       "        0.33428571, 0.        , 0.27428571, 0.        , 0.        ,\n",
       "        0.17714286, 0.        , 0.        , 0.12285714, 0.        ,\n",
       "        0.        , 0.07428571, 0.        , 0.        , 0.02857143,\n",
       "        0.        , 0.        , 0.01142857, 0.        , 0.00571429]),\n",
       " array([51.  , 51.35, 51.7 , 52.05, 52.4 , 52.75, 53.1 , 53.45, 53.8 ,\n",
       "        54.15, 54.5 , 54.85, 55.2 , 55.55, 55.9 , 56.25, 56.6 , 56.95,\n",
       "        57.3 , 57.65, 58.  , 58.35, 58.7 , 59.05, 59.4 , 59.75, 60.1 ,\n",
       "        60.45, 60.8 , 61.15, 61.5 , 61.85, 62.2 , 62.55, 62.9 , 63.25,\n",
       "        63.6 , 63.95, 64.3 , 64.65, 65.  , 65.35, 65.7 , 66.05, 66.4 ,\n",
       "        66.75, 67.1 , 67.45, 67.8 , 68.15, 68.5 , 68.85, 69.2 , 69.55,\n",
       "        69.9 , 70.25, 70.6 , 70.95, 71.3 , 71.65, 72.  ]),\n",
       " <BarContainer object of 60 artists>)"
      ]
     },
     "execution_count": 388,
     "metadata": {},
     "output_type": "execute_result"
    },
    {
     "data": {
      "image/png": "[encoded data removed]",
      "text/plain": [
       "<Figure size 432x288 with 1 Axes>"
      ]
     },
     "metadata": {
      "needs_background": "light"
     },
     "output_type": "display_data"
    }
   ],
   "source": [
    "n=100\n",
    "N=100\n",
    "s=12\n",
    "\n",
    "random.seed(s)\n",
    "def distinct_vals(n,N):\n",
    "    r = np.random.randint(0,N,n)\n",
    "    r_set = set(r)\n",
    "    return len(r_set)\n",
    "\n",
    "histogram = list()\n",
    "for i in range(1000):\n",
    "    histogram.append(distinct_vals(n,N))\n",
    "    \n",
    "plt.hist(histogram,density=True, bins=min(int(n*0.6),int(N*0.6)))"
   ]
  },
  {
   "cell_type": "markdown",
   "id": "ba6a4652",
   "metadata": {},
   "source": [
    "After experimenting many times and having seen many distributions of the number of distinct values, we concluded that as the number of iterations get's larger and the difference between n and N get larger, we see in the histogram that it converges to either n or N. For small values, the experiments show that it is not always consistent with our formula, however, as you increase the values they converge to what we expected."
   ]
  }
 ],
 "metadata": {
  "kernelspec": {
   "display_name": "Python 3 (ipykernel)",
   "language": "python",
   "name": "python3"
  },
  "language_info": {
   "codemirror_mode": {
    "name": "ipython",
    "version": 3
   },
   "file_extension": ".py",
   "mimetype": "text/x-python",
   "name": "python",
   "nbconvert_exporter": "python",
   "pygments_lexer": "ipython3",
   "version": "3.8.12"
  }
 },
 "nbformat": 4,
 "nbformat_minor": 5
}
